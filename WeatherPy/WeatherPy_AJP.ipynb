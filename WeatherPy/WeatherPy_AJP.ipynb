{
 "cells": [
  {
   "cell_type": "markdown",
   "metadata": {},
   "source": [
    "# WeatherPy\n",
    "----\n",
    "\n",
    "#### Note\n",
    "* Instructions have been included for each segment. You do not have to follow them exactly, but they are included to help you think through the steps."
   ]
  },
  {
   "cell_type": "code",
   "execution_count": 1,
   "metadata": {
    "scrolled": true
   },
   "outputs": [],
   "source": [
    "# Dependencies and Setup\n",
    "import matplotlib.pyplot as plt\n",
    "import pandas as pd\n",
    "import numpy as np\n",
    "import requests\n",
    "import time\n",
    "from scipy.stats import linregress\n",
    "import json\n",
    "import os\n",
    "\n",
    "# Import API key\n",
    "from api_keys import weather_api_key\n",
    "\n",
    "# Incorporated citipy to determine city based on latitude and longitude\n",
    "from citipy import citipy\n",
    "\n",
    "# Output File (CSV)\n",
    "output_data_file = \"Output_Data/cities.csv\"\n",
    "\n",
    "# Range of latitudes and longitudes\n",
    "lat_range = (-90, 90)\n",
    "lng_range = (-180, 180)"
   ]
  },
  {
   "cell_type": "markdown",
   "metadata": {},
   "source": [
    "## Generate Cities List"
   ]
  },
  {
   "cell_type": "code",
   "execution_count": 2,
   "metadata": {},
   "outputs": [
    {
     "data": {
      "text/plain": [
       "592"
      ]
     },
     "execution_count": 2,
     "metadata": {},
     "output_type": "execute_result"
    }
   ],
   "source": [
    "# List for holding lat_lngs and cities\n",
    "lat_lngs = []\n",
    "cities = []\n",
    "\n",
    "# Create a set of random lat and lng combinations\n",
    "lats = np.random.uniform(lat_range[0], lat_range[1], size=1500)\n",
    "lngs = np.random.uniform(lng_range[0], lng_range[1], size=1500)\n",
    "lat_lngs = zip(lats, lngs)\n",
    "\n",
    "# Identify nearest city for each lat, lng combination\n",
    "for lat_lng in lat_lngs:\n",
    "    city = citipy.nearest_city(lat_lng[0], lat_lng[1]).city_name\n",
    "    \n",
    "    # If the city is unique, then add it to a our cities list\n",
    "    if city not in cities:\n",
    "        cities.append(city)\n",
    "\n",
    "# Print the city count to confirm sufficient count\n",
    "len(cities)"
   ]
  },
  {
   "cell_type": "markdown",
   "metadata": {},
   "source": [
    "### Perform API Calls\n",
    "* Perform a weather check on each city using a series of successive API calls.\n",
    "* Include a print log of each city as it'sbeing processed (with the city number and city name).\n"
   ]
  },
  {
   "cell_type": "code",
   "execution_count": 3,
   "metadata": {
    "scrolled": true
   },
   "outputs": [
    {
     "name": "stdout",
     "output_type": "stream",
     "text": [
      "200\n",
      "{\n",
      "    \"coord\": {\n",
      "        \"lon\": -108.5007,\n",
      "        \"lat\": 45.7833\n",
      "    },\n",
      "    \"weather\": [\n",
      "        {\n",
      "            \"id\": 803,\n",
      "            \"main\": \"Clouds\",\n",
      "            \"description\": \"broken clouds\",\n",
      "            \"icon\": \"04d\"\n",
      "        }\n",
      "    ],\n",
      "    \"base\": \"stations\",\n",
      "    \"main\": {\n",
      "        \"temp\": 50,\n",
      "        \"feels_like\": 47.23,\n",
      "        \"temp_min\": 50,\n",
      "        \"temp_max\": 50,\n",
      "        \"pressure\": 1025,\n",
      "        \"humidity\": 29\n",
      "    },\n",
      "    \"visibility\": 10000,\n",
      "    \"wind\": {\n",
      "        \"speed\": 6.91,\n",
      "        \"deg\": 10\n",
      "    },\n",
      "    \"clouds\": {\n",
      "        \"all\": 75\n",
      "    },\n",
      "    \"dt\": 1618621167,\n",
      "    \"sys\": {\n",
      "        \"type\": 1,\n",
      "        \"id\": 3440,\n",
      "        \"country\": \"US\",\n",
      "        \"sunrise\": 1618575929,\n",
      "        \"sunset\": 1618624889\n",
      "    },\n",
      "    \"timezone\": -21600,\n",
      "    \"id\": 5640350,\n",
      "    \"name\": \"Billings Metropolitan Area\",\n",
      "    \"cod\": 200\n",
      "}\n"
     ]
    }
   ],
   "source": [
    "#Set Parameters\n",
    "units = \"imperial\"\n",
    "lang = \"en\"\n",
    "\n",
    "#Base URL\n",
    "base_url = \"https://api.openweathermap.org/data/2.5/weather?\"\n",
    "get_url = f\"{base_url}appid={weather_api_key}&lang={lang}&units={units}&q=\"\n",
    "get_response = requests.get(f\"{get_url}billings\")\n",
    "\n",
    "#return results for billings to see repsonse format and test connection\n",
    "print(get_response.status_code)\n",
    "get_json = get_response.json()\n",
    "print(json.dumps(get_json, indent = 4))"
   ]
  },
  {
   "cell_type": "code",
   "execution_count": 4,
   "metadata": {
    "scrolled": true
   },
   "outputs": [
    {
     "name": "stdout",
     "output_type": "stream",
     "text": [
      "Processing Record 1 of Set 1 | turukhansk\n",
      "Processing Record 2 of Set 1 | puerto ayora\n",
      "Processing Record 3 of Set 1 | ponta do sol\n",
      "Processing Record 4 of Set 1 | san lazaro\n",
      "Processing Record 5 of Set 1 | shenjiamen\n",
      "Processing Record 6 of Set 1 | kruisfontein\n",
      "Processing Record 7 of Set 1 | batagay\n",
      "Processing Record 8 of Set 1 | iqaluit\n",
      "Processing Record 9 of Set 1 | pisco\n",
      "Processing Record 10 of Set 1 | kamenka\n",
      "Processing Record 11 of Set 1 | sao joao da barra\n",
      "Processing Record 12 of Set 1 | punta arenas\n",
      "Processing Record 13 of Set 1 | ruidoso\n",
      "Processing Record 14 of Set 1 | rikitea\n",
      "Processing Record 15 of Set 1 | bathsheba\n",
      "Processing Record 16 of Set 1 | zapolyarnyy\n",
      "Processing Record 17 of Set 1 | barentsburg\n",
      "Processing Record 18 of Set 1 | busselton\n",
      "Processing Record 19 of Set 1 | carnarvon\n",
      "Processing Record 20 of Set 1 | attawapiskat\n",
      "Processing Record 21 of Set 1 | kapaa\n",
      "Processing Record 22 of Set 1 | albany\n",
      "Processing Record 23 of Set 1 | diego de almagro\n",
      "Processing Record 24 of Set 1 | thompson\n",
      "Processing Record 25 of Set 1 | bubaque\n",
      "Processing Record 26 of Set 1 | dikson\n",
      "Processing Record 27 of Set 1 | illoqqortoormiut\n",
      "Processing Record 28 of Set 1 | ushuaia\n",
      "Processing Record 29 of Set 1 | fabriano\n",
      "Processing Record 30 of Set 1 | puerto escondido\n",
      "Processing Record 31 of Set 1 | port elizabeth\n",
      "Processing Record 32 of Set 1 | vaini\n",
      "Processing Record 33 of Set 1 | vestmanna\n",
      "Processing Record 34 of Set 1 | lalibela\n",
      "Processing Record 35 of Set 1 | barrow\n",
      "Processing Record 36 of Set 1 | manggar\n",
      "Processing Record 37 of Set 1 | bluff\n",
      "Processing Record 38 of Set 1 | kajaani\n",
      "Processing Record 39 of Set 1 | guerrero negro\n",
      "Processing Record 40 of Set 1 | hervey bay\n",
      "Processing Record 41 of Set 1 | flin flon\n",
      "Processing Record 42 of Set 1 | severo-kurilsk\n",
      "Processing Record 43 of Set 1 | cape town\n",
      "Processing Record 44 of Set 1 | carutapera\n",
      "Processing Record 45 of Set 1 | mys shmidta\n",
      "Processing Record 46 of Set 1 | sitka\n",
      "Processing Record 47 of Set 1 | hithadhoo\n",
      "Processing Record 48 of Set 1 | hobart\n",
      "Processing Record 49 of Set 1 | moyale\n",
      "Processing Record 50 of Set 1 | scottsburgh\n",
      "Processing Record 51 of Set 1 | nantucket\n",
      "Processing Record 52 of Set 1 | ribeira grande\n",
      "Processing Record 53 of Set 1 | payo\n",
      "Processing Record 54 of Set 1 | fortuna\n",
      "Processing Record 55 of Set 1 | nome\n",
      "Processing Record 56 of Set 1 | khatanga\n",
      "Processing Record 57 of Set 1 | yellowknife\n",
      "Processing Record 58 of Set 1 | husavik\n",
      "Processing Record 59 of Set 1 | ulladulla\n",
      "Processing Record 60 of Set 1 | hasaki\n",
      "Processing Record 61 of Set 1 | comodoro rivadavia\n",
      "Processing Record 62 of Set 1 | tuatapere\n",
      "Processing Record 63 of Set 1 | okha\n",
      "Processing Record 64 of Set 1 | fort-shevchenko\n",
      "Processing Record 65 of Set 1 | torbay\n",
      "Processing Record 66 of Set 1 | haibowan\n",
      "Processing Record 67 of Set 1 | georgetown\n",
      "Processing Record 68 of Set 1 | komsomolskiy\n",
      "Processing Record 69 of Set 1 | san patricio\n",
      "Processing Record 70 of Set 1 | bonavista\n",
      "Processing Record 71 of Set 1 | shasta lake\n",
      "Processing Record 72 of Set 1 | russell\n",
      "Processing Record 73 of Set 1 | la rioja\n",
      "Processing Record 74 of Set 1 | alofi\n",
      "Processing Record 75 of Set 1 | urubicha\n",
      "Processing Record 76 of Set 1 | camana\n",
      "Processing Record 77 of Set 1 | cayenne\n",
      "Processing Record 78 of Set 1 | petropavlovsk-kamchatskiy\n",
      "Processing Record 79 of Set 1 | pringsewu\n",
      "Processing Record 80 of Set 1 | butaritari\n",
      "Processing Record 81 of Set 1 | saint-philippe\n",
      "Processing Record 82 of Set 1 | avarua\n",
      "Processing Record 83 of Set 1 | ingraj bazar\n",
      "Processing Record 84 of Set 1 | birobidzhan\n",
      "Processing Record 85 of Set 1 | port hardy\n",
      "Processing Record 86 of Set 1 | puerto colombia\n",
      "Processing Record 87 of Set 1 | bhadasar\n",
      "Processing Record 88 of Set 1 | mhango\n",
      "Processing Record 89 of Set 1 | howard springs\n",
      "Processing Record 90 of Set 1 | bogo\n",
      "Processing Record 91 of Set 1 | pasni\n",
      "Processing Record 92 of Set 1 | vaitupu\n",
      "Processing Record 93 of Set 1 | arraial do cabo\n",
      "Processing Record 94 of Set 1 | grand gaube\n",
      "Processing Record 95 of Set 1 | tasiilaq\n",
      "Processing Record 96 of Set 1 | margate\n",
      "Processing Record 97 of Set 1 | susurluk\n",
      "Processing Record 98 of Set 1 | andenes\n",
      "Processing Record 99 of Set 1 | bilibino\n",
      "Processing Record 100 of Set 1 | puerto varas\n",
      "Processing Record 101 of Set 1 | atuona\n",
      "Processing Record 102 of Set 1 | nizhneyansk\n",
      "Processing Record 103 of Set 1 | egersund\n",
      "Processing Record 104 of Set 1 | mbigou\n",
      "Processing Record 105 of Set 1 | chillicothe\n",
      "Processing Record 106 of Set 1 | sauteurs\n",
      "Processing Record 107 of Set 1 | kahului\n",
      "Processing Record 108 of Set 1 | aspe\n",
      "Processing Record 109 of Set 1 | lucapa\n",
      "Processing Record 110 of Set 1 | mataura\n",
      "Processing Record 111 of Set 1 | tilichiki\n",
      "Processing Record 112 of Set 1 | qaanaaq\n",
      "Processing Record 113 of Set 1 | mount isa\n",
      "Processing Record 114 of Set 1 | pitiquito\n",
      "Processing Record 115 of Set 1 | sorland\n",
      "Processing Record 116 of Set 1 | sisimiut\n",
      "Processing Record 117 of Set 1 | nishihara\n",
      "Processing Record 118 of Set 1 | chokurdakh\n",
      "Processing Record 119 of Set 1 | nieuw amsterdam\n",
      "Processing Record 120 of Set 1 | new norfolk\n",
      "Processing Record 121 of Set 1 | gravdal\n",
      "Processing Record 122 of Set 1 | kasempa\n",
      "Processing Record 123 of Set 1 | bethel\n",
      "Processing Record 124 of Set 1 | bokspits\n",
      "Processing Record 125 of Set 1 | kyaiklat\n",
      "Processing Record 126 of Set 1 | victoria\n",
      "Processing Record 127 of Set 1 | hilo\n",
      "Processing Record 128 of Set 1 | portland\n",
      "Processing Record 129 of Set 1 | east london\n",
      "Processing Record 130 of Set 1 | huanren\n",
      "Processing Record 131 of Set 1 | sovetskiy\n",
      "Processing Record 132 of Set 1 | ilulissat\n",
      "Processing Record 133 of Set 1 | port alfred\n",
      "Processing Record 134 of Set 1 | belushya guba\n",
      "Processing Record 135 of Set 1 | jamestown\n",
      "Processing Record 136 of Set 1 | mpika\n",
      "Processing Record 137 of Set 1 | scarborough\n",
      "Processing Record 138 of Set 1 | newton\n",
      "Processing Record 139 of Set 1 | mar del plata\n",
      "Processing Record 140 of Set 1 | valencia\n",
      "Processing Record 141 of Set 1 | hermanus\n",
      "Processing Record 142 of Set 1 | mahebourg\n",
      "Processing Record 143 of Set 1 | pevek\n",
      "Processing Record 144 of Set 1 | huarmey\n",
      "Processing Record 145 of Set 1 | shitanjing\n",
      "Processing Record 146 of Set 1 | lakes entrance\n",
      "Processing Record 147 of Set 1 | champerico\n",
      "Processing Record 148 of Set 1 | taltal\n",
      "Processing Record 149 of Set 1 | lolua\n",
      "Processing Record 150 of Set 1 | dunnville\n",
      "Processing Record 151 of Set 1 | staryy nadym\n",
      "Processing Record 152 of Set 1 | tadine\n",
      "Processing Record 153 of Set 1 | zharkent\n",
      "Processing Record 154 of Set 1 | owensboro\n",
      "Processing Record 155 of Set 1 | broken hill\n",
      "Processing Record 156 of Set 1 | nanortalik\n",
      "Processing Record 157 of Set 1 | uniontown\n",
      "Processing Record 158 of Set 1 | ewa beach\n",
      "Processing Record 159 of Set 1 | chicama\n",
      "Processing Record 160 of Set 1 | sioux lookout\n",
      "Processing Record 161 of Set 1 | lorengau\n",
      "Processing Record 162 of Set 1 | taoudenni\n",
      "Processing Record 163 of Set 1 | santa cruz del sur\n",
      "Processing Record 164 of Set 1 | jerome\n",
      "Processing Record 165 of Set 1 | bud\n",
      "Processing Record 166 of Set 1 | tuktoyaktuk\n",
      "Processing Record 167 of Set 1 | dahanu\n",
      "Processing Record 168 of Set 1 | padang\n",
      "Processing Record 169 of Set 1 | northam\n",
      "Processing Record 170 of Set 1 | sentyabrskiy\n",
      "Processing Record 171 of Set 1 | aksarka\n",
      "Processing Record 172 of Set 1 | bosaso\n",
      "Processing Record 173 of Set 1 | caravelas\n",
      "Processing Record 174 of Set 1 | manta\n",
      "Processing Record 175 of Set 1 | codrington\n",
      "Processing Record 176 of Set 1 | dongli\n",
      "Processing Record 177 of Set 1 | nhulunbuy\n",
      "Processing Record 178 of Set 1 | baraboo\n",
      "Processing Record 179 of Set 1 | marabba\n",
      "Processing Record 180 of Set 1 | jacqueville\n",
      "Processing Record 181 of Set 1 | ambovombe\n",
      "Processing Record 182 of Set 1 | marcona\n",
      "Processing Record 183 of Set 1 | andros town\n",
      "Processing Record 184 of Set 1 | alta floresta\n",
      "Processing Record 185 of Set 1 | yarim\n",
      "Processing Record 186 of Set 1 | hit\n",
      "Processing Record 187 of Set 1 | yarada\n",
      "Processing Record 188 of Set 1 | megion\n",
      "Processing Record 189 of Set 1 | nuuk\n",
      "Processing Record 190 of Set 1 | mocambique\n",
      "Processing Record 191 of Set 1 | esperance\n",
      "Processing Record 192 of Set 1 | salvador\n",
      "Processing Record 193 of Set 1 | bredasdorp\n",
      "Processing Record 194 of Set 1 | brae\n"
     ]
    },
    {
     "name": "stdout",
     "output_type": "stream",
     "text": [
      "Processing Record 195 of Set 1 | port-gentil\n",
      "Processing Record 196 of Set 1 | bengkulu\n",
      "Processing Record 197 of Set 1 | ahuimanu\n",
      "Processing Record 198 of Set 1 | clyde river\n",
      "Processing Record 199 of Set 1 | caceres\n",
      "Processing Record 200 of Set 1 | nikolskoye\n",
      "Processing Record 201 of Set 1 | marovoay\n",
      "Processing Record 202 of Set 1 | norman wells\n",
      "Processing Record 203 of Set 1 | sinnamary\n",
      "Processing Record 204 of Set 1 | longyearbyen\n",
      "Processing Record 205 of Set 1 | chuy\n",
      "Processing Record 206 of Set 1 | bambous virieux\n",
      "Processing Record 207 of Set 1 | grand river south east\n",
      "Processing Record 208 of Set 1 | tiksi\n",
      "Processing Record 209 of Set 1 | grindavik\n",
      "Processing Record 210 of Set 1 | ahipara\n",
      "Processing Record 211 of Set 1 | samusu\n",
      "Processing Record 212 of Set 1 | gat\n",
      "Processing Record 213 of Set 1 | aklavik\n",
      "Processing Record 214 of Set 1 | sumenep\n",
      "Processing Record 215 of Set 1 | umm kaddadah\n",
      "Processing Record 216 of Set 1 | saumur\n",
      "Processing Record 217 of Set 1 | karkaralinsk\n",
      "Processing Record 218 of Set 1 | muros\n",
      "Processing Record 219 of Set 1 | faanui\n",
      "Processing Record 220 of Set 1 | talnakh\n",
      "Processing Record 221 of Set 1 | ust-nera\n",
      "Processing Record 222 of Set 1 | katobu\n",
      "Processing Record 223 of Set 1 | benguela\n",
      "Processing Record 224 of Set 1 | touros\n",
      "Processing Record 225 of Set 1 | akyab\n",
      "Processing Record 226 of Set 1 | veraval\n",
      "Processing Record 227 of Set 1 | richards bay\n",
      "Processing Record 228 of Set 1 | banugao\n",
      "Processing Record 229 of Set 1 | asau\n",
      "Processing Record 230 of Set 1 | gunjur\n",
      "Processing Record 231 of Set 1 | nemuro\n",
      "Processing Record 232 of Set 1 | itoman\n",
      "Processing Record 233 of Set 1 | san andres\n",
      "Processing Record 234 of Set 1 | sakakah\n",
      "Processing Record 235 of Set 1 | goiatuba\n",
      "Processing Record 236 of Set 1 | fakel\n",
      "Processing Record 237 of Set 1 | tumannyy\n",
      "Processing Record 238 of Set 1 | saldanha\n",
      "Processing Record 239 of Set 1 | palombara sabina\n",
      "Processing Record 240 of Set 1 | meulaboh\n",
      "Processing Record 241 of Set 1 | trelew\n",
      "Processing Record 242 of Set 1 | el prat de llobregat\n",
      "Processing Record 243 of Set 1 | bonthe\n",
      "Processing Record 244 of Set 1 | sao jose da coroa grande\n",
      "Processing Record 245 of Set 1 | krotoszyn\n",
      "Processing Record 246 of Set 1 | sokoni\n",
      "Processing Record 247 of Set 1 | uruzgan\n",
      "Processing Record 248 of Set 1 | saskylakh\n",
      "Processing Record 249 of Set 1 | kavieng\n",
      "Processing Record 250 of Set 1 | grand-lahou\n",
      "Processing Record 251 of Set 1 | cherskiy\n",
      "Processing Record 252 of Set 1 | tsihombe\n",
      "Processing Record 253 of Set 1 | bereda\n",
      "Processing Record 254 of Set 1 | kieta\n",
      "Processing Record 255 of Set 1 | burgeo\n",
      "Processing Record 256 of Set 1 | thunder bay\n",
      "Processing Record 257 of Set 1 | toma\n",
      "Processing Record 258 of Set 1 | lagoa\n",
      "Processing Record 259 of Set 1 | southbridge\n",
      "Processing Record 260 of Set 1 | yarmouth\n",
      "Processing Record 261 of Set 1 | wewak\n",
      "Processing Record 262 of Set 1 | dudinka\n",
      "Processing Record 263 of Set 1 | dunedin\n",
      "Processing Record 264 of Set 1 | khandyga\n",
      "Processing Record 265 of Set 1 | plettenberg bay\n",
      "Processing Record 266 of Set 1 | dosso\n",
      "Processing Record 267 of Set 1 | geraldton\n",
      "Processing Record 268 of Set 1 | goure\n",
      "Processing Record 269 of Set 1 | egvekinot\n",
      "Processing Record 270 of Set 1 | zachagansk\n",
      "Processing Record 271 of Set 1 | souillac\n",
      "Processing Record 272 of Set 1 | agua verde\n",
      "Processing Record 273 of Set 1 | baruun-urt\n",
      "Processing Record 274 of Set 1 | castro\n",
      "Processing Record 275 of Set 1 | tezu\n",
      "Processing Record 276 of Set 1 | matelandia\n",
      "Processing Record 277 of Set 1 | tchollire\n",
      "Processing Record 278 of Set 1 | aswan\n",
      "Processing Record 279 of Set 1 | warri\n",
      "Processing Record 280 of Set 1 | taolanaro\n",
      "Processing Record 281 of Set 1 | marrakesh\n",
      "Processing Record 282 of Set 1 | turan\n",
      "Processing Record 283 of Set 1 | saint-pierre\n",
      "Processing Record 284 of Set 1 | uturoa\n",
      "Processing Record 285 of Set 1 | clarence town\n",
      "Processing Record 286 of Set 1 | elizabeth city\n",
      "Processing Record 287 of Set 1 | anadyr\n",
      "Processing Record 288 of Set 1 | cabo san lucas\n",
      "Processing Record 289 of Set 1 | kendari\n",
      "Processing Record 290 of Set 1 | arcata\n",
      "Processing Record 291 of Set 1 | palabuhanratu\n",
      "Processing Record 292 of Set 1 | necochea\n",
      "Processing Record 293 of Set 1 | baykit\n",
      "Processing Record 294 of Set 1 | viedma\n",
      "Processing Record 295 of Set 1 | yerbogachen\n",
      "Processing Record 296 of Set 1 | miraflores\n",
      "Processing Record 297 of Set 1 | xining\n",
      "Processing Record 298 of Set 1 | zheleznodorozhnyy\n",
      "Processing Record 299 of Set 1 | hofn\n",
      "Processing Record 300 of Set 1 | paucartambo\n",
      "Processing Record 301 of Set 1 | klaksvik\n",
      "Processing Record 302 of Set 1 | pahrump\n",
      "Processing Record 303 of Set 1 | waingapu\n",
      "Processing Record 304 of Set 1 | vitim\n",
      "Processing Record 305 of Set 1 | amapa\n",
      "Processing Record 306 of Set 1 | mormugao\n",
      "Processing Record 307 of Set 1 | constitucion\n",
      "Processing Record 308 of Set 1 | waipawa\n",
      "Processing Record 309 of Set 1 | kiunga\n",
      "Processing Record 310 of Set 1 | ende\n",
      "Processing Record 311 of Set 1 | ola\n",
      "Processing Record 312 of Set 1 | airai\n",
      "Processing Record 313 of Set 1 | deh rawud\n",
      "Processing Record 314 of Set 1 | hambantota\n",
      "Processing Record 315 of Set 1 | labrea\n",
      "Processing Record 316 of Set 1 | sulangan\n",
      "Processing Record 317 of Set 1 | cidreira\n",
      "Processing Record 318 of Set 1 | belaya gora\n",
      "Processing Record 319 of Set 1 | sorvag\n",
      "Processing Record 320 of Set 1 | namibe\n",
      "Processing Record 321 of Set 1 | hailar\n",
      "Processing Record 322 of Set 1 | rio brilhante\n",
      "Processing Record 323 of Set 1 | digoin\n",
      "Processing Record 324 of Set 1 | naliya\n",
      "Processing Record 325 of Set 1 | hobyo\n",
      "Processing Record 326 of Set 1 | zhigansk\n",
      "Processing Record 327 of Set 1 | orlovskiy\n",
      "Processing Record 328 of Set 1 | jawhar\n",
      "Processing Record 329 of Set 1 | turek\n",
      "Processing Record 330 of Set 1 | lixourion\n",
      "Processing Record 331 of Set 1 | dicabisagan\n",
      "Processing Record 332 of Set 1 | guymon\n",
      "Processing Record 333 of Set 1 | fairbanks\n",
      "Processing Record 334 of Set 1 | upernavik\n",
      "Processing Record 335 of Set 1 | safford\n",
      "Processing Record 336 of Set 1 | rawson\n",
      "Processing Record 337 of Set 1 | ambilobe\n",
      "Processing Record 338 of Set 1 | shimoda\n",
      "Processing Record 339 of Set 1 | assiniboia\n",
      "Processing Record 340 of Set 1 | pundaguitan\n",
      "Processing Record 341 of Set 1 | jiuquan\n",
      "Processing Record 342 of Set 1 | banyuwangi\n",
      "Processing Record 343 of Set 1 | jibuti\n",
      "Processing Record 344 of Set 1 | taburi\n",
      "Processing Record 345 of Set 1 | leningradskiy\n",
      "Processing Record 346 of Set 1 | camacha\n",
      "Processing Record 347 of Set 1 | morondava\n",
      "Processing Record 348 of Set 1 | burnie\n",
      "Processing Record 349 of Set 1 | wilmington\n",
      "Processing Record 350 of Set 1 | lavrentiya\n",
      "Processing Record 351 of Set 1 | rincon\n",
      "Processing Record 352 of Set 1 | namatanai\n",
      "Processing Record 353 of Set 1 | grandview\n",
      "Processing Record 354 of Set 1 | praia\n",
      "Processing Record 355 of Set 1 | winnemucca\n",
      "Processing Record 356 of Set 1 | buerarema\n",
      "Processing Record 357 of Set 1 | stettler\n",
      "Processing Record 358 of Set 1 | moranbah\n",
      "Processing Record 359 of Set 1 | provideniya\n",
      "Processing Record 360 of Set 1 | port lincoln\n",
      "Processing Record 361 of Set 1 | adrar\n",
      "Processing Record 362 of Set 1 | tingrela\n",
      "Processing Record 363 of Set 1 | bahia de caraquez\n",
      "Processing Record 364 of Set 1 | vallenar\n",
      "Processing Record 365 of Set 1 | ngunguru\n",
      "Processing Record 366 of Set 1 | acarau\n",
      "Processing Record 367 of Set 1 | kenai\n",
      "Processing Record 368 of Set 1 | unguia\n",
      "Processing Record 369 of Set 1 | ruatoria\n",
      "Processing Record 370 of Set 1 | dasoguz\n",
      "Processing Record 371 of Set 1 | shingu\n",
      "Processing Record 372 of Set 1 | meyungs\n",
      "Processing Record 373 of Set 1 | rock sound\n",
      "Processing Record 374 of Set 1 | bintulu\n",
      "Processing Record 375 of Set 1 | valdivia\n",
      "Processing Record 376 of Set 1 | ouahigouya\n",
      "Processing Record 377 of Set 1 | ferrol\n",
      "Processing Record 378 of Set 1 | central point\n",
      "Processing Record 379 of Set 1 | atambua\n",
      "Processing Record 380 of Set 1 | poum\n",
      "Processing Record 381 of Set 1 | kalabo\n",
      "Processing Record 382 of Set 1 | labuhan\n",
      "Processing Record 383 of Set 1 | thinadhoo\n",
      "Processing Record 384 of Set 1 | ovalle\n",
      "Processing Record 385 of Set 1 | samarai\n",
      "Processing Record 386 of Set 1 | ancud\n",
      "Processing Record 387 of Set 1 | metehara\n",
      "Processing Record 388 of Set 1 | quebo\n",
      "Processing Record 389 of Set 1 | rameswaram\n"
     ]
    },
    {
     "name": "stdout",
     "output_type": "stream",
     "text": [
      "Processing Record 390 of Set 1 | dhidhdhoo\n",
      "Processing Record 391 of Set 1 | leh\n",
      "Processing Record 392 of Set 1 | tongren\n",
      "Processing Record 393 of Set 1 | kabalo\n",
      "Processing Record 394 of Set 1 | amderma\n",
      "Processing Record 395 of Set 1 | tejupilco\n",
      "Processing Record 396 of Set 1 | puri\n",
      "Processing Record 397 of Set 1 | valparaiso\n",
      "Processing Record 398 of Set 1 | port blair\n",
      "Processing Record 399 of Set 1 | kavaratti\n",
      "Processing Record 400 of Set 1 | karratha\n",
      "Processing Record 401 of Set 1 | sechura\n",
      "Processing Record 402 of Set 1 | gujranwala\n",
      "Processing Record 403 of Set 1 | oistins\n",
      "Processing Record 404 of Set 1 | alizai\n",
      "Processing Record 405 of Set 1 | rungata\n",
      "Processing Record 406 of Set 1 | travesia\n",
      "Processing Record 407 of Set 1 | lompoc\n",
      "Processing Record 408 of Set 1 | kalakamati\n",
      "Processing Record 409 of Set 1 | kaitangata\n",
      "Processing Record 410 of Set 1 | opuwo\n",
      "Processing Record 411 of Set 1 | halaszi\n",
      "Processing Record 412 of Set 1 | yantal\n",
      "Processing Record 413 of Set 1 | deputatskiy\n",
      "Processing Record 414 of Set 1 | ambunti\n",
      "Processing Record 415 of Set 1 | shimanovsk\n",
      "Processing Record 416 of Set 1 | beringovskiy\n",
      "Processing Record 417 of Set 1 | arrecife\n",
      "Processing Record 418 of Set 1 | torbat-e jam\n",
      "Processing Record 419 of Set 1 | neiafu\n",
      "Processing Record 420 of Set 1 | bilma\n",
      "Processing Record 421 of Set 1 | riyadh\n",
      "Processing Record 422 of Set 1 | kamien pomorski\n",
      "Processing Record 423 of Set 1 | dalian\n",
      "Processing Record 424 of Set 1 | youkounkoun\n",
      "Processing Record 425 of Set 1 | jinchang\n",
      "Processing Record 426 of Set 1 | kodiak\n",
      "Processing Record 427 of Set 1 | aban\n",
      "Processing Record 428 of Set 1 | palmer\n",
      "Processing Record 429 of Set 1 | ust-koksa\n",
      "Processing Record 430 of Set 1 | pearl\n",
      "Processing Record 431 of Set 1 | coracora\n",
      "Processing Record 432 of Set 1 | waw\n",
      "Processing Record 433 of Set 1 | cockburn town\n",
      "Processing Record 434 of Set 1 | la ronge\n",
      "Processing Record 435 of Set 1 | itaueira\n",
      "Processing Record 436 of Set 1 | itacare\n",
      "Processing Record 437 of Set 1 | severomuysk\n",
      "Processing Record 438 of Set 1 | geresk\n",
      "Processing Record 439 of Set 1 | tabou\n",
      "Processing Record 440 of Set 1 | jiwani\n",
      "Processing Record 441 of Set 1 | barahona\n",
      "Processing Record 442 of Set 1 | wake forest\n",
      "Processing Record 443 of Set 1 | malokaterynivka\n",
      "Processing Record 444 of Set 1 | faya\n",
      "Processing Record 445 of Set 1 | katsuura\n",
      "Processing Record 446 of Set 1 | port said\n",
      "Processing Record 447 of Set 1 | dinsor\n",
      "Processing Record 448 of Set 1 | zhumadian\n",
      "Processing Record 449 of Set 1 | beruwala\n",
      "Processing Record 450 of Set 1 | yirol\n",
      "Processing Record 451 of Set 1 | sambava\n",
      "Processing Record 452 of Set 1 | puerto baquerizo moreno\n",
      "Processing Record 453 of Set 1 | lebu\n",
      "Processing Record 454 of Set 1 | imbituba\n",
      "Processing Record 455 of Set 1 | san francisco\n",
      "Processing Record 456 of Set 1 | roald\n",
      "Processing Record 457 of Set 1 | morehead\n",
      "Processing Record 458 of Set 1 | bomet\n",
      "Processing Record 459 of Set 1 | lahij\n",
      "Processing Record 460 of Set 1 | shakiso\n",
      "Processing Record 461 of Set 1 | barranca\n",
      "Processing Record 462 of Set 1 | zlobin\n",
      "Processing Record 463 of Set 1 | college\n",
      "Processing Record 464 of Set 1 | neuquen\n",
      "Processing Record 465 of Set 1 | polyarnyy\n",
      "Processing Record 466 of Set 1 | umzimvubu\n",
      "Processing Record 467 of Set 1 | bandarbeyla\n",
      "Processing Record 468 of Set 1 | tabiauea\n",
      "Processing Record 469 of Set 1 | lufilufi\n",
      "Processing Record 470 of Set 1 | siderno\n",
      "Processing Record 471 of Set 1 | domat\n",
      "Processing Record 472 of Set 1 | zemio\n",
      "Processing Record 473 of Set 1 | sabrum\n",
      "Processing Record 474 of Set 1 | sanchez\n",
      "Processing Record 475 of Set 1 | naze\n",
      "Processing Record 476 of Set 1 | maneadero\n",
      "Processing Record 477 of Set 1 | los llanos de aridane\n",
      "Processing Record 478 of Set 1 | noumea\n",
      "Processing Record 479 of Set 1 | vyartsilya\n",
      "Processing Record 480 of Set 1 | puga\n",
      "Processing Record 481 of Set 1 | carman\n",
      "Processing Record 482 of Set 1 | oranjemund\n",
      "Processing Record 483 of Set 1 | sept-iles\n",
      "Processing Record 484 of Set 1 | sao filipe\n",
      "Processing Record 485 of Set 1 | kastamonu\n",
      "Processing Record 486 of Set 1 | flinders\n",
      "Processing Record 487 of Set 1 | taga\n",
      "Processing Record 488 of Set 1 | wonthaggi\n",
      "Processing Record 489 of Set 1 | beloha\n",
      "Processing Record 490 of Set 1 | te anau\n",
      "Processing Record 491 of Set 1 | abha\n",
      "Processing Record 492 of Set 1 | fenyi\n",
      "Processing Record 493 of Set 1 | half moon bay\n",
      "Processing Record 494 of Set 1 | bogorodsk\n",
      "Processing Record 495 of Set 1 | saint george\n",
      "Processing Record 496 of Set 1 | paamiut\n",
      "Processing Record 497 of Set 1 | carballo\n",
      "Processing Record 498 of Set 1 | vostok\n",
      "Processing Record 499 of Set 1 | khuzdar\n",
      "Processing Record 500 of Set 1 | narsaq\n",
      "Processing Record 501 of Set 1 | mahibadhoo\n",
      "Processing Record 502 of Set 1 | eltham\n",
      "Processing Record 503 of Set 1 | iberia\n",
      "Processing Record 504 of Set 1 | biak\n",
      "Processing Record 505 of Set 1 | corinto\n",
      "Processing Record 506 of Set 1 | mikuni\n",
      "Processing Record 507 of Set 1 | porto novo\n",
      "Processing Record 508 of Set 1 | cepu\n",
      "Processing Record 509 of Set 1 | krasnoselkup\n",
      "Processing Record 510 of Set 1 | garh maharaja\n",
      "Processing Record 511 of Set 1 | sadovoye\n",
      "Processing Record 512 of Set 1 | maumere\n",
      "Processing Record 513 of Set 1 | burica\n",
      "Processing Record 514 of Set 1 | vila franca do campo\n",
      "Processing Record 515 of Set 1 | paka\n",
      "Processing Record 516 of Set 1 | guadalajara\n",
      "Processing Record 517 of Set 1 | ranfurly\n",
      "Processing Record 518 of Set 1 | haines junction\n",
      "Processing Record 519 of Set 1 | tocopilla\n",
      "Processing Record 520 of Set 1 | maniitsoq\n",
      "Processing Record 521 of Set 1 | biltine\n",
      "Processing Record 522 of Set 1 | maragogi\n",
      "Processing Record 523 of Set 1 | ambodifototra\n",
      "Processing Record 524 of Set 1 | calbuco\n",
      "Processing Record 525 of Set 1 | tiarei\n",
      "Processing Record 526 of Set 1 | iskateley\n",
      "Processing Record 527 of Set 1 | azar shahr\n",
      "Processing Record 528 of Set 1 | saint anthony\n",
      "Processing Record 529 of Set 1 | pamekasan\n",
      "Processing Record 530 of Set 1 | mykhaylivka\n",
      "Processing Record 531 of Set 1 | doha\n",
      "Processing Record 532 of Set 1 | praia da vitoria\n",
      "Processing Record 533 of Set 1 | tautira\n",
      "Processing Record 534 of Set 1 | mrirt\n",
      "Processing Record 535 of Set 1 | murud\n",
      "Processing Record 536 of Set 1 | pudozh\n",
      "Processing Record 537 of Set 1 | camaguey\n",
      "Processing Record 538 of Set 1 | ciras\n",
      "Processing Record 539 of Set 1 | pacos de ferreira\n",
      "Processing Record 540 of Set 1 | mikhaylovka\n",
      "Processing Record 541 of Set 1 | canyon lake\n",
      "Processing Record 542 of Set 1 | lagos\n",
      "Processing Record 543 of Set 1 | homer\n",
      "Processing Record 544 of Set 1 | nurota\n",
      "Processing Record 545 of Set 1 | kununurra\n",
      "Processing Record 546 of Set 1 | kwekwe\n",
      "Processing Record 547 of Set 1 | borogontsy\n",
      "Processing Record 548 of Set 1 | shestakovo\n",
      "Processing Record 549 of Set 1 | xunchang\n",
      "Processing Record 550 of Set 1 | khani\n",
      "Processing Record 551 of Set 1 | taksimo\n",
      "Processing Record 552 of Set 1 | saint-augustin\n",
      "Processing Record 553 of Set 1 | luang prabang\n",
      "Processing Record 554 of Set 1 | olafsvik\n",
      "Processing Record 555 of Set 1 | malatya\n",
      "Processing Record 556 of Set 1 | lar gerd\n",
      "Processing Record 557 of Set 1 | bolungarvik\n",
      "Processing Record 558 of Set 1 | baghdad\n",
      "Processing Record 559 of Set 1 | twentynine palms\n",
      "Processing Record 560 of Set 1 | palasa\n",
      "Processing Record 561 of Set 1 | salalah\n",
      "Processing Record 562 of Set 1 | mildura\n",
      "Processing Record 563 of Set 1 | marzuq\n",
      "Processing Record 564 of Set 1 | banda aceh\n",
      "Processing Record 565 of Set 1 | zhanaozen\n",
      "Processing Record 566 of Set 1 | los algarrobos\n",
      "Processing Record 567 of Set 1 | eresos\n",
      "Processing Record 568 of Set 1 | mehamn\n",
      "Processing Record 569 of Set 1 | piranshahr\n",
      "Processing Record 570 of Set 1 | marsh harbour\n",
      "Processing Record 571 of Set 1 | kualakapuas\n",
      "Processing Record 572 of Set 1 | conakry\n",
      "Processing Record 573 of Set 1 | conde\n",
      "Processing Record 574 of Set 1 | udachnyy\n",
      "Processing Record 575 of Set 1 | whitehorse\n",
      "Processing Record 576 of Set 1 | pravec\n",
      "Processing Record 577 of Set 1 | calvinia\n",
      "Processing Record 578 of Set 1 | ati\n",
      "Processing Record 579 of Set 1 | jiayuguan\n",
      "Processing Record 580 of Set 1 | panaba\n",
      "Processing Record 581 of Set 1 | nerchinskiy zavod\n",
      "Processing Record 582 of Set 1 | bastia\n",
      "Processing Record 583 of Set 1 | melnikovo\n",
      "Processing Record 584 of Set 1 | gurgan\n"
     ]
    },
    {
     "name": "stdout",
     "output_type": "stream",
     "text": [
      "Processing Record 585 of Set 1 | snellville\n",
      "Processing Record 586 of Set 1 | fukue\n",
      "Processing Record 587 of Set 1 | ulaangom\n",
      "Processing Record 588 of Set 1 | coralville\n",
      "Processing Record 589 of Set 1 | kushmurun\n",
      "Processing Record 590 of Set 1 | kalat\n",
      "Processing Record 591 of Set 1 | moree\n",
      "Processing Record 592 of Set 1 | sydney\n"
     ]
    }
   ],
   "source": [
    "#Create empty lists to append API call data to\n",
    "lat = []\n",
    "long = []\n",
    "max_temp = []\n",
    "humidity = []\n",
    "cloudiness = []\n",
    "wind_speed = []\n",
    "country = []\n",
    "date = []\n",
    "\n",
    "#Set Parameters\n",
    "units = \"imperial\"\n",
    "lang = \"en\"\n",
    "\n",
    "#Base URL\n",
    "base_url = \"https://api.openweathermap.org/data/2.5/weather?\"\n",
    "get_url = f\"{base_url}appid={weather_api_key}&lang={lang}&units={units}&q=\"\n",
    "\n",
    "#Create counter for print log\n",
    "city_count = 0\n",
    "\n",
    "#Create for loop to pull data from API call for each city\n",
    "for city in cities:\n",
    "    weather_url = f\"{get_url}{city}\"\n",
    "    city_count += 1\n",
    "    print(f\"Processing Record {city_count} of Set 1 | {city}\")\n",
    "    city_data = requests.get(weather_url).json()\n",
    "    \n",
    "    #Append data for each city using try/except to account for Key Errors\n",
    "    try:\n",
    "        lat.append(city_data[\"coord\"][\"lat\"])\n",
    "        long.append(city_data[\"coord\"][\"lon\"])\n",
    "        max_temp.append(city_data[\"main\"][\"temp_max\"])\n",
    "        humidity.append(city_data[\"main\"][\"humidity\"])\n",
    "        cloudiness.append(city_data[\"clouds\"][\"all\"])\n",
    "        wind_speed.append(city_data[\"wind\"][\"speed\"])\n",
    "        country.append(city_data[\"sys\"][\"country\"])\n",
    "        date.append(city_data[\"dt\"])\n",
    "    \n",
    "    #Use \"None\" to leave entries blank for KeyErrors\n",
    "    except KeyError:\n",
    "        lat.append(None)\n",
    "        long.append(None)\n",
    "        max_temp.append(None)\n",
    "        humidity.append(None)\n",
    "        cloudiness.append(None)\n",
    "        wind_speed.append(None)\n",
    "        country.append(None)\n",
    "        date.append(None)\n"
   ]
  },
  {
   "cell_type": "markdown",
   "metadata": {},
   "source": [
    "## Convert Raw Data to DataFrame\n",
    "* Export the city data into a .csv.\n",
    "* Display the DataFrame"
   ]
  },
  {
   "cell_type": "code",
   "execution_count": 5,
   "metadata": {},
   "outputs": [],
   "source": [
    "#Create dataframe\n",
    "weather_data = pd.DataFrame({\n",
    "    \"City\":cities,\n",
    "    \"Latitude\":lat,\n",
    "    \"Longitude\":long,\n",
    "    \"Max Temp\":max_temp,\n",
    "    \"Humidity\":humidity,\n",
    "    \"Cloudiness\":cloudiness,\n",
    "    \"Wind Speed\":wind_speed,\n",
    "    \"Country\":country,\n",
    "    \"Date\":date\n",
    "})\n",
    "\n",
    "#Convert to readable date\n",
    "weather_data[\"Date\"] = pd.to_datetime(weather_data[\"Date\"], unit = 's')\n",
    "\n",
    "#Drop null values and reset index\n",
    "weather_data = weather_data.dropna().reset_index(drop=True)"
   ]
  },
  {
   "cell_type": "code",
   "execution_count": 6,
   "metadata": {},
   "outputs": [
    {
     "data": {
      "text/html": [
       "<div>\n",
       "<style scoped>\n",
       "    .dataframe tbody tr th:only-of-type {\n",
       "        vertical-align: middle;\n",
       "    }\n",
       "\n",
       "    .dataframe tbody tr th {\n",
       "        vertical-align: top;\n",
       "    }\n",
       "\n",
       "    .dataframe thead th {\n",
       "        text-align: right;\n",
       "    }\n",
       "</style>\n",
       "<table border=\"1\" class=\"dataframe\">\n",
       "  <thead>\n",
       "    <tr style=\"text-align: right;\">\n",
       "      <th></th>\n",
       "      <th>City</th>\n",
       "      <th>Latitude</th>\n",
       "      <th>Longitude</th>\n",
       "      <th>Max Temp</th>\n",
       "      <th>Humidity</th>\n",
       "      <th>Cloudiness</th>\n",
       "      <th>Wind Speed</th>\n",
       "      <th>Country</th>\n",
       "      <th>Date</th>\n",
       "    </tr>\n",
       "  </thead>\n",
       "  <tbody>\n",
       "    <tr>\n",
       "      <th>0</th>\n",
       "      <td>turukhansk</td>\n",
       "      <td>65.8167</td>\n",
       "      <td>87.9833</td>\n",
       "      <td>-9.09</td>\n",
       "      <td>98.0</td>\n",
       "      <td>100.0</td>\n",
       "      <td>4.18</td>\n",
       "      <td>RU</td>\n",
       "      <td>2021-04-17 01:04:19</td>\n",
       "    </tr>\n",
       "    <tr>\n",
       "      <th>1</th>\n",
       "      <td>puerto ayora</td>\n",
       "      <td>-0.7393</td>\n",
       "      <td>-90.3518</td>\n",
       "      <td>75.99</td>\n",
       "      <td>97.0</td>\n",
       "      <td>88.0</td>\n",
       "      <td>1.99</td>\n",
       "      <td>EC</td>\n",
       "      <td>2021-04-17 01:04:19</td>\n",
       "    </tr>\n",
       "    <tr>\n",
       "      <th>2</th>\n",
       "      <td>ponta do sol</td>\n",
       "      <td>32.6667</td>\n",
       "      <td>-17.1000</td>\n",
       "      <td>60.01</td>\n",
       "      <td>72.0</td>\n",
       "      <td>6.0</td>\n",
       "      <td>1.01</td>\n",
       "      <td>PT</td>\n",
       "      <td>2021-04-17 01:04:20</td>\n",
       "    </tr>\n",
       "    <tr>\n",
       "      <th>3</th>\n",
       "      <td>san lazaro</td>\n",
       "      <td>18.0387</td>\n",
       "      <td>-88.6622</td>\n",
       "      <td>82.40</td>\n",
       "      <td>74.0</td>\n",
       "      <td>40.0</td>\n",
       "      <td>13.80</td>\n",
       "      <td>BZ</td>\n",
       "      <td>2021-04-17 01:04:21</td>\n",
       "    </tr>\n",
       "    <tr>\n",
       "      <th>4</th>\n",
       "      <td>shenjiamen</td>\n",
       "      <td>29.9576</td>\n",
       "      <td>122.2980</td>\n",
       "      <td>60.80</td>\n",
       "      <td>81.0</td>\n",
       "      <td>98.0</td>\n",
       "      <td>15.32</td>\n",
       "      <td>CN</td>\n",
       "      <td>2021-04-17 01:04:21</td>\n",
       "    </tr>\n",
       "  </tbody>\n",
       "</table>\n",
       "</div>"
      ],
      "text/plain": [
       "           City  Latitude  Longitude  Max Temp  Humidity  Cloudiness  \\\n",
       "0    turukhansk   65.8167    87.9833     -9.09      98.0       100.0   \n",
       "1  puerto ayora   -0.7393   -90.3518     75.99      97.0        88.0   \n",
       "2  ponta do sol   32.6667   -17.1000     60.01      72.0         6.0   \n",
       "3    san lazaro   18.0387   -88.6622     82.40      74.0        40.0   \n",
       "4    shenjiamen   29.9576   122.2980     60.80      81.0        98.0   \n",
       "\n",
       "   Wind Speed Country                Date  \n",
       "0        4.18      RU 2021-04-17 01:04:19  \n",
       "1        1.99      EC 2021-04-17 01:04:19  \n",
       "2        1.01      PT 2021-04-17 01:04:20  \n",
       "3       13.80      BZ 2021-04-17 01:04:21  \n",
       "4       15.32      CN 2021-04-17 01:04:21  "
      ]
     },
     "execution_count": 6,
     "metadata": {},
     "output_type": "execute_result"
    }
   ],
   "source": [
    "#Save to csv and display dataframe\n",
    "weather_data.to_csv(output_data_file, index=False, header=True)\n",
    "weather_data.head()"
   ]
  },
  {
   "cell_type": "code",
   "execution_count": 7,
   "metadata": {},
   "outputs": [
    {
     "data": {
      "text/html": [
       "<div>\n",
       "<style scoped>\n",
       "    .dataframe tbody tr th:only-of-type {\n",
       "        vertical-align: middle;\n",
       "    }\n",
       "\n",
       "    .dataframe tbody tr th {\n",
       "        vertical-align: top;\n",
       "    }\n",
       "\n",
       "    .dataframe thead th {\n",
       "        text-align: right;\n",
       "    }\n",
       "</style>\n",
       "<table border=\"1\" class=\"dataframe\">\n",
       "  <thead>\n",
       "    <tr style=\"text-align: right;\">\n",
       "      <th></th>\n",
       "      <th>Latitude</th>\n",
       "      <th>Longitude</th>\n",
       "      <th>Max Temp</th>\n",
       "      <th>Humidity</th>\n",
       "      <th>Cloudiness</th>\n",
       "      <th>Wind Speed</th>\n",
       "    </tr>\n",
       "  </thead>\n",
       "  <tbody>\n",
       "    <tr>\n",
       "      <th>count</th>\n",
       "      <td>545.000000</td>\n",
       "      <td>545.000000</td>\n",
       "      <td>545.000000</td>\n",
       "      <td>545.000000</td>\n",
       "      <td>545.000000</td>\n",
       "      <td>545.000000</td>\n",
       "    </tr>\n",
       "    <tr>\n",
       "      <th>mean</th>\n",
       "      <td>19.405640</td>\n",
       "      <td>15.534621</td>\n",
       "      <td>59.194147</td>\n",
       "      <td>69.658716</td>\n",
       "      <td>50.143119</td>\n",
       "      <td>8.011229</td>\n",
       "    </tr>\n",
       "    <tr>\n",
       "      <th>std</th>\n",
       "      <td>33.142682</td>\n",
       "      <td>92.454344</td>\n",
       "      <td>21.116701</td>\n",
       "      <td>22.199568</td>\n",
       "      <td>40.261207</td>\n",
       "      <td>5.621134</td>\n",
       "    </tr>\n",
       "    <tr>\n",
       "      <th>min</th>\n",
       "      <td>-54.800000</td>\n",
       "      <td>-179.166700</td>\n",
       "      <td>-17.520000</td>\n",
       "      <td>7.000000</td>\n",
       "      <td>0.000000</td>\n",
       "      <td>0.340000</td>\n",
       "    </tr>\n",
       "    <tr>\n",
       "      <th>25%</th>\n",
       "      <td>-7.156800</td>\n",
       "      <td>-69.363200</td>\n",
       "      <td>46.400000</td>\n",
       "      <td>60.000000</td>\n",
       "      <td>6.000000</td>\n",
       "      <td>4.230000</td>\n",
       "    </tr>\n",
       "    <tr>\n",
       "      <th>50%</th>\n",
       "      <td>22.285500</td>\n",
       "      <td>20.744700</td>\n",
       "      <td>62.170000</td>\n",
       "      <td>75.000000</td>\n",
       "      <td>43.000000</td>\n",
       "      <td>6.910000</td>\n",
       "    </tr>\n",
       "    <tr>\n",
       "      <th>75%</th>\n",
       "      <td>45.292400</td>\n",
       "      <td>96.370000</td>\n",
       "      <td>77.760000</td>\n",
       "      <td>85.000000</td>\n",
       "      <td>93.000000</td>\n",
       "      <td>10.510000</td>\n",
       "    </tr>\n",
       "    <tr>\n",
       "      <th>max</th>\n",
       "      <td>78.218600</td>\n",
       "      <td>179.316700</td>\n",
       "      <td>90.360000</td>\n",
       "      <td>100.000000</td>\n",
       "      <td>100.000000</td>\n",
       "      <td>51.050000</td>\n",
       "    </tr>\n",
       "  </tbody>\n",
       "</table>\n",
       "</div>"
      ],
      "text/plain": [
       "         Latitude   Longitude    Max Temp    Humidity  Cloudiness  Wind Speed\n",
       "count  545.000000  545.000000  545.000000  545.000000  545.000000  545.000000\n",
       "mean    19.405640   15.534621   59.194147   69.658716   50.143119    8.011229\n",
       "std     33.142682   92.454344   21.116701   22.199568   40.261207    5.621134\n",
       "min    -54.800000 -179.166700  -17.520000    7.000000    0.000000    0.340000\n",
       "25%     -7.156800  -69.363200   46.400000   60.000000    6.000000    4.230000\n",
       "50%     22.285500   20.744700   62.170000   75.000000   43.000000    6.910000\n",
       "75%     45.292400   96.370000   77.760000   85.000000   93.000000   10.510000\n",
       "max     78.218600  179.316700   90.360000  100.000000  100.000000   51.050000"
      ]
     },
     "execution_count": 7,
     "metadata": {},
     "output_type": "execute_result"
    }
   ],
   "source": [
    "#Dispay quick summary of data frame statistics\n",
    "weather_data.describe()"
   ]
  },
  {
   "cell_type": "markdown",
   "metadata": {},
   "source": [
    "## Inspect the data and remove the cities where the humidity > 100%.\n",
    "----\n",
    "Skip this step if there are no cities that have humidity > 100%. "
   ]
  },
  {
   "cell_type": "code",
   "execution_count": 8,
   "metadata": {},
   "outputs": [
    {
     "data": {
      "text/html": [
       "<div>\n",
       "<style scoped>\n",
       "    .dataframe tbody tr th:only-of-type {\n",
       "        vertical-align: middle;\n",
       "    }\n",
       "\n",
       "    .dataframe tbody tr th {\n",
       "        vertical-align: top;\n",
       "    }\n",
       "\n",
       "    .dataframe thead th {\n",
       "        text-align: right;\n",
       "    }\n",
       "</style>\n",
       "<table border=\"1\" class=\"dataframe\">\n",
       "  <thead>\n",
       "    <tr style=\"text-align: right;\">\n",
       "      <th></th>\n",
       "      <th>City</th>\n",
       "      <th>Latitude</th>\n",
       "      <th>Longitude</th>\n",
       "      <th>Max Temp</th>\n",
       "      <th>Humidity</th>\n",
       "      <th>Cloudiness</th>\n",
       "      <th>Wind Speed</th>\n",
       "      <th>Country</th>\n",
       "      <th>Date</th>\n",
       "    </tr>\n",
       "  </thead>\n",
       "  <tbody>\n",
       "  </tbody>\n",
       "</table>\n",
       "</div>"
      ],
      "text/plain": [
       "Empty DataFrame\n",
       "Columns: [City, Latitude, Longitude, Max Temp, Humidity, Cloudiness, Wind Speed, Country, Date]\n",
       "Index: []"
      ]
     },
     "execution_count": 8,
     "metadata": {},
     "output_type": "execute_result"
    }
   ],
   "source": [
    "#Display cities with humidity greater than 100%\n",
    "humidaf = weather_data.loc[weather_data[\"Humidity\"] > 100, :]\n",
    "humidaf"
   ]
  },
  {
   "cell_type": "code",
   "execution_count": 9,
   "metadata": {},
   "outputs": [
    {
     "name": "stdout",
     "output_type": "stream",
     "text": [
      "Number of cities with humidity over 100%: 0\n"
     ]
    }
   ],
   "source": [
    "#Get the indices of cities that have humidity over 100%.\n",
    "humid_indices = weather_data.index[weather_data['Humidity'] > 100]\n",
    "print(f\"Number of cities with humidity over 100%: {len(humid_indices)}\")"
   ]
  },
  {
   "cell_type": "code",
   "execution_count": 10,
   "metadata": {},
   "outputs": [
    {
     "name": "stdout",
     "output_type": "stream",
     "text": [
      "Number of cities to use in data analysis: 545\n"
     ]
    },
    {
     "data": {
      "text/html": [
       "<div>\n",
       "<style scoped>\n",
       "    .dataframe tbody tr th:only-of-type {\n",
       "        vertical-align: middle;\n",
       "    }\n",
       "\n",
       "    .dataframe tbody tr th {\n",
       "        vertical-align: top;\n",
       "    }\n",
       "\n",
       "    .dataframe thead th {\n",
       "        text-align: right;\n",
       "    }\n",
       "</style>\n",
       "<table border=\"1\" class=\"dataframe\">\n",
       "  <thead>\n",
       "    <tr style=\"text-align: right;\">\n",
       "      <th></th>\n",
       "      <th>City</th>\n",
       "      <th>Latitude</th>\n",
       "      <th>Longitude</th>\n",
       "      <th>Max Temp</th>\n",
       "      <th>Humidity</th>\n",
       "      <th>Cloudiness</th>\n",
       "      <th>Wind Speed</th>\n",
       "      <th>Country</th>\n",
       "      <th>Date</th>\n",
       "    </tr>\n",
       "  </thead>\n",
       "  <tbody>\n",
       "    <tr>\n",
       "      <th>0</th>\n",
       "      <td>turukhansk</td>\n",
       "      <td>65.8167</td>\n",
       "      <td>87.9833</td>\n",
       "      <td>-9.09</td>\n",
       "      <td>98.0</td>\n",
       "      <td>100.0</td>\n",
       "      <td>4.18</td>\n",
       "      <td>RU</td>\n",
       "      <td>2021-04-17 01:04:19</td>\n",
       "    </tr>\n",
       "    <tr>\n",
       "      <th>1</th>\n",
       "      <td>puerto ayora</td>\n",
       "      <td>-0.7393</td>\n",
       "      <td>-90.3518</td>\n",
       "      <td>75.99</td>\n",
       "      <td>97.0</td>\n",
       "      <td>88.0</td>\n",
       "      <td>1.99</td>\n",
       "      <td>EC</td>\n",
       "      <td>2021-04-17 01:04:19</td>\n",
       "    </tr>\n",
       "    <tr>\n",
       "      <th>2</th>\n",
       "      <td>ponta do sol</td>\n",
       "      <td>32.6667</td>\n",
       "      <td>-17.1000</td>\n",
       "      <td>60.01</td>\n",
       "      <td>72.0</td>\n",
       "      <td>6.0</td>\n",
       "      <td>1.01</td>\n",
       "      <td>PT</td>\n",
       "      <td>2021-04-17 01:04:20</td>\n",
       "    </tr>\n",
       "    <tr>\n",
       "      <th>3</th>\n",
       "      <td>san lazaro</td>\n",
       "      <td>18.0387</td>\n",
       "      <td>-88.6622</td>\n",
       "      <td>82.40</td>\n",
       "      <td>74.0</td>\n",
       "      <td>40.0</td>\n",
       "      <td>13.80</td>\n",
       "      <td>BZ</td>\n",
       "      <td>2021-04-17 01:04:21</td>\n",
       "    </tr>\n",
       "    <tr>\n",
       "      <th>4</th>\n",
       "      <td>shenjiamen</td>\n",
       "      <td>29.9576</td>\n",
       "      <td>122.2980</td>\n",
       "      <td>60.80</td>\n",
       "      <td>81.0</td>\n",
       "      <td>98.0</td>\n",
       "      <td>15.32</td>\n",
       "      <td>CN</td>\n",
       "      <td>2021-04-17 01:04:21</td>\n",
       "    </tr>\n",
       "  </tbody>\n",
       "</table>\n",
       "</div>"
      ],
      "text/plain": [
       "           City  Latitude  Longitude  Max Temp  Humidity  Cloudiness  \\\n",
       "0    turukhansk   65.8167    87.9833     -9.09      98.0       100.0   \n",
       "1  puerto ayora   -0.7393   -90.3518     75.99      97.0        88.0   \n",
       "2  ponta do sol   32.6667   -17.1000     60.01      72.0         6.0   \n",
       "3    san lazaro   18.0387   -88.6622     82.40      74.0        40.0   \n",
       "4    shenjiamen   29.9576   122.2980     60.80      81.0        98.0   \n",
       "\n",
       "   Wind Speed Country                Date  \n",
       "0        4.18      RU 2021-04-17 01:04:19  \n",
       "1        1.99      EC 2021-04-17 01:04:19  \n",
       "2        1.01      PT 2021-04-17 01:04:20  \n",
       "3       13.80      BZ 2021-04-17 01:04:21  \n",
       "4       15.32      CN 2021-04-17 01:04:21  "
      ]
     },
     "execution_count": 10,
     "metadata": {},
     "output_type": "execute_result"
    }
   ],
   "source": [
    "# Make a new DataFrame equal to the city data to drop all humidity outliers by index.\n",
    "# Passing \"inplace=False\" will make a copy of the city_data DataFrame, which we call \"clean_city_data\".\n",
    "clean_city_data = weather_data.drop(humid_indices, inplace=False)\n",
    "print(f\"Number of cities to use in data analysis: {len(clean_city_data)}\")\n",
    "clean_city_data.head()"
   ]
  },
  {
   "cell_type": "markdown",
   "metadata": {},
   "source": [
    "## Plotting the Data\n",
    "* Use proper labeling of the plots using plot titles (including date of analysis) and axes labels.\n",
    "* Save the plotted figures as .pngs."
   ]
  },
  {
   "cell_type": "code",
   "execution_count": 11,
   "metadata": {},
   "outputs": [],
   "source": [
    "#Create function to make plotting uniform and efficient\n",
    "def scatter(x, y):\n",
    "    plt.scatter(x, y, marker = '.', c='yellow', edgecolor='black', label = 'City')\n",
    "    plt.grid()"
   ]
  },
  {
   "cell_type": "markdown",
   "metadata": {},
   "source": [
    "## Latitude vs. Temperature Plot"
   ]
  },
  {
   "cell_type": "code",
   "execution_count": 12,
   "metadata": {
    "scrolled": true
   },
   "outputs": [
    {
     "data": {
      "image/png": "[encoded data removed]",
      "text/plain": [
       "<Figure size 432x288 with 1 Axes>"
      ]
     },
     "metadata": {
      "needs_background": "light"
     },
     "output_type": "display_data"
    }
   ],
   "source": [
    "scatter(clean_city_data[\"Latitude\"], clean_city_data[\"Max Temp\"])\n",
    "plt.xlabel(\"Latitude\")\n",
    "plt.ylabel(\"Max Temperature (F)\")\n",
    "plt.title(\"City Latitude vs. Max Temperature (4/16/21)\")\n",
    "plt.savefig(\"../Images/Lat_vs_MaxTemp.png\")"
   ]
  },
  {
   "cell_type": "markdown",
   "metadata": {},
   "source": [
    "This plot illustrates that the closer to the equator (0 deg. latitude), the higher the temperature. Also, notice the temperatures are currently higher in the southern hemisphere because it is late summer there."
   ]
  },
  {
   "cell_type": "markdown",
   "metadata": {},
   "source": [
    "## Latitude vs. Humidity Plot"
   ]
  },
  {
   "cell_type": "code",
   "execution_count": 13,
   "metadata": {},
   "outputs": [
    {
     "data": {
      "image/png": "[encoded data removed]",
      "text/plain": [
       "<Figure size 432x288 with 1 Axes>"
      ]
     },
     "metadata": {
      "needs_background": "light"
     },
     "output_type": "display_data"
    }
   ],
   "source": [
    "scatter(clean_city_data[\"Latitude\"], clean_city_data[\"Humidity\"])\n",
    "plt.xlabel(\"Latitude\")\n",
    "plt.ylabel(\"Humidity (%)\")\n",
    "plt.title(\"City Latitude vs. Humidity (4/16/21)\")\n",
    "plt.savefig(\"../Images/Lat_vs_Humidity.png\")"
   ]
  },
  {
   "cell_type": "markdown",
   "metadata": {},
   "source": [
    "This plot shows humidity vs latitude.  I do not see any relationship here."
   ]
  },
  {
   "cell_type": "markdown",
   "metadata": {},
   "source": [
    "## Latitude vs. Cloudiness Plot"
   ]
  },
  {
   "cell_type": "code",
   "execution_count": 14,
   "metadata": {},
   "outputs": [
    {
     "data": {
      "image/png": "[encoded data removed]",
      "text/plain": [
       "<Figure size 432x288 with 1 Axes>"
      ]
     },
     "metadata": {
      "needs_background": "light"
     },
     "output_type": "display_data"
    }
   ],
   "source": [
    "scatter(clean_city_data[\"Latitude\"], clean_city_data[\"Cloudiness\"])\n",
    "plt.xlabel(\"Latitude\")\n",
    "plt.ylabel(\"Cloudiness (%)\")\n",
    "plt.title(\"City Latitude vs. Cloudiness (4/16/21)\")\n",
    "plt.savefig(\"../Images/Lat_vs_Cloudiness.png\")"
   ]
  },
  {
   "cell_type": "markdown",
   "metadata": {},
   "source": [
    "Plot of cloudiness as a percentage vs. latitude.  I do not see a relationship here either.  It is interesting to note the human influence of this metric as the numbers are reported or round to \"pretty numbers\" (20, 40, 75, 90, etc)."
   ]
  },
  {
   "cell_type": "markdown",
   "metadata": {},
   "source": [
    "## Latitude vs. Wind Speed Plot"
   ]
  },
  {
   "cell_type": "code",
   "execution_count": 15,
   "metadata": {},
   "outputs": [
    {
     "data": {
      "image/png": "[encoded data removed]",
      "text/plain": [
       "<Figure size 432x288 with 1 Axes>"
      ]
     },
     "metadata": {
      "needs_background": "light"
     },
     "output_type": "display_data"
    }
   ],
   "source": [
    "scatter(clean_city_data[\"Latitude\"], clean_city_data[\"Wind Speed\"])\n",
    "plt.xlabel(\"Latitude\")\n",
    "plt.ylabel(\"Wind Speed (mph)\")\n",
    "plt.title(\"City Latitude vs. Wind Speed (4/16/21)\")\n",
    "plt.savefig(\"../Images/Lat_vs_Wind Speed.png\")"
   ]
  },
  {
   "cell_type": "markdown",
   "metadata": {},
   "source": [
    "This plot shows wind speed in mph vs latitude.  There isn't much of a relationship, but it is interesting that most windy locations are in the northern hemisphere. This could simply be due to the fact that this data set doesn't have any cities below 60 degrees in the southern hemisphere."
   ]
  },
  {
   "cell_type": "markdown",
   "metadata": {},
   "source": [
    "## Linear Regression"
   ]
  },
  {
   "cell_type": "code",
   "execution_count": 16,
   "metadata": {},
   "outputs": [],
   "source": [
    "#Create dataframes for the northern and southern hemispheres\n",
    "northern_hemi = clean_city_data.loc[clean_city_data[\"Latitude\"] >= 0, :]\n",
    "southern_hemi = clean_city_data.loc[clean_city_data[\"Latitude\"] < 0, :]\n",
    "southern_hemi.head()\n",
    "\n",
    "#Create function to efficiently and uniformly create several plots\n",
    "def regression(x, y):\n",
    "    (m, b, rvalue, pvalue, stderr) = linregress(x, y)\n",
    "    regress_values = m*x+b\n",
    "    line_eq = \"y = \" + str(round(m,2)) + \"x +\" + str(round(b,2))\n",
    "    plt.annotate(line_eq,(6, 10), xycoords = 'axes points', fontsize=15,color=\"red\")\n",
    "    plt.plot(x, regress_values, \"r-\")\n",
    "    plt.scatter(x, y)\n",
    "    print(f\"The r-value is: {rvalue}\")"
   ]
  },
  {
   "cell_type": "markdown",
   "metadata": {},
   "source": [
    "####  Northern Hemisphere - Max Temp vs. Latitude Linear Regression"
   ]
  },
  {
   "cell_type": "code",
   "execution_count": 17,
   "metadata": {},
   "outputs": [
    {
     "name": "stdout",
     "output_type": "stream",
     "text": [
      "The r-value is: -0.8874701305437697\n"
     ]
    },
    {
     "data": {
      "image/png": "[encoded data removed]",
      "text/plain": [
       "<Figure size 432x288 with 1 Axes>"
      ]
     },
     "metadata": {
      "needs_background": "light"
     },
     "output_type": "display_data"
    }
   ],
   "source": [
    "regression(northern_hemi[\"Latitude\"], northern_hemi[\"Max Temp\"])\n",
    "plt.xlabel(\"Latitude\")\n",
    "plt.ylabel(\"Max Temperature (F)\")\n",
    "plt.title(\"City Latitude (Northern Hemisphere) vs. Max Temp (4/16/21)\")\n",
    "plt.savefig(\"../Images/NHLat_vs_MaxTemp_LR.png\")"
   ]
  },
  {
   "cell_type": "markdown",
   "metadata": {},
   "source": [
    "####  Southern Hemisphere - Max Temp vs. Latitude Linear Regression"
   ]
  },
  {
   "cell_type": "code",
   "execution_count": 18,
   "metadata": {},
   "outputs": [
    {
     "name": "stdout",
     "output_type": "stream",
     "text": [
      "The r-value is: 0.7303788368008408\n"
     ]
    },
    {
     "data": {
      "image/png": "[encoded data removed]",
      "text/plain": [
       "<Figure size 432x288 with 1 Axes>"
      ]
     },
     "metadata": {
      "needs_background": "light"
     },
     "output_type": "display_data"
    }
   ],
   "source": [
    "regression(southern_hemi[\"Latitude\"], southern_hemi[\"Max Temp\"])\n",
    "plt.xlabel(\"Latitude\")\n",
    "plt.ylabel(\"Max Temperature (F)\")\n",
    "plt.title(\"City Latitude (Southern Hemisphere) vs. Max Temp (4/16/21)\")\n",
    "plt.tight_layout()\n",
    "plt.savefig(\"../Images/SHLat_vs_MaxTemp_LR.png\")"
   ]
  },
  {
   "cell_type": "markdown",
   "metadata": {},
   "source": [
    "These plots both show a fairly strong correlation between latitude and temperature.  The r-value is larger for the northern hemisphere, indicating a stronger correlation. This could be due to having more data points in the northern hemisphere or the random sample."
   ]
  },
  {
   "cell_type": "markdown",
   "metadata": {},
   "source": [
    "####  Northern Hemisphere - Humidity (%) vs. Latitude Linear Regression"
   ]
  },
  {
   "cell_type": "code",
   "execution_count": 19,
   "metadata": {},
   "outputs": [
    {
     "name": "stdout",
     "output_type": "stream",
     "text": [
      "The r-value is: 0.14194134004380327\n"
     ]
    },
    {
     "data": {
      "image/png": "[encoded data removed]",
      "text/plain": [
       "<Figure size 432x288 with 1 Axes>"
      ]
     },
     "metadata": {
      "needs_background": "light"
     },
     "output_type": "display_data"
    }
   ],
   "source": [
    "regression(northern_hemi[\"Latitude\"], northern_hemi[\"Humidity\"])\n",
    "plt.xlabel(\"Latitude\")\n",
    "plt.ylabel(\"Humidity (%)\")\n",
    "plt.title(\"City Latitude (Northern Hemisphere) vs. Humidity (4/16/21)\")\n",
    "plt.savefig(\"../Images/NHLat_vs_Humidity_LR.png\")"
   ]
  },
  {
   "cell_type": "markdown",
   "metadata": {},
   "source": [
    "####  Southern Hemisphere - Humidity (%) vs. Latitude Linear Regression"
   ]
  },
  {
   "cell_type": "code",
   "execution_count": 20,
   "metadata": {},
   "outputs": [
    {
     "name": "stdout",
     "output_type": "stream",
     "text": [
      "The r-value is: 0.3016364342746825\n"
     ]
    },
    {
     "data": {
      "image/png": "[encoded data removed]",
      "text/plain": [
       "<Figure size 432x288 with 1 Axes>"
      ]
     },
     "metadata": {
      "needs_background": "light"
     },
     "output_type": "display_data"
    }
   ],
   "source": [
    "regression(southern_hemi[\"Latitude\"], southern_hemi[\"Humidity\"])\n",
    "plt.xlabel(\"Latitude\")\n",
    "plt.ylabel(\"Humidity (%)\")\n",
    "plt.title(\"City Latitude (Southern Hemisphere) vs. Humidity (4/16/21)\")\n",
    "plt.savefig(\"../Images/SHLat_vs_Humidity_LR.png\")"
   ]
  },
  {
   "cell_type": "markdown",
   "metadata": {},
   "source": [
    "There doesn't appear to be a strong correlation between humidity and latitude."
   ]
  },
  {
   "cell_type": "markdown",
   "metadata": {},
   "source": [
    "####  Northern Hemisphere - Cloudiness (%) vs. Latitude Linear Regression"
   ]
  },
  {
   "cell_type": "code",
   "execution_count": 21,
   "metadata": {},
   "outputs": [
    {
     "name": "stdout",
     "output_type": "stream",
     "text": [
      "The r-value is: 0.1661089964755031\n"
     ]
    },
    {
     "data": {
      "image/png": "[encoded data removed]",
      "text/plain": [
       "<Figure size 432x288 with 1 Axes>"
      ]
     },
     "metadata": {
      "needs_background": "light"
     },
     "output_type": "display_data"
    }
   ],
   "source": [
    "regression(northern_hemi[\"Latitude\"], northern_hemi[\"Cloudiness\"])\n",
    "plt.xlabel(\"Latitude\")\n",
    "plt.ylabel(\"Cloudiness (%)\")\n",
    "plt.title(\"City Latitude (Northern Hemisphere) vs. Cloudiness (4/16/21)\")\n",
    "plt.savefig(\"../Images/NHLat_vs_Cloudiness_LR.png\")"
   ]
  },
  {
   "cell_type": "markdown",
   "metadata": {},
   "source": [
    "####  Southern Hemisphere - Cloudiness (%) vs. Latitude Linear Regression"
   ]
  },
  {
   "cell_type": "code",
   "execution_count": 22,
   "metadata": {},
   "outputs": [
    {
     "name": "stdout",
     "output_type": "stream",
     "text": [
      "The r-value is: 0.1775360630667145\n"
     ]
    },
    {
     "data": {
      "image/png": "[encoded data removed]",
      "text/plain": [
       "<Figure size 432x288 with 1 Axes>"
      ]
     },
     "metadata": {
      "needs_background": "light"
     },
     "output_type": "display_data"
    }
   ],
   "source": [
    "regression(southern_hemi[\"Latitude\"], southern_hemi[\"Cloudiness\"])\n",
    "plt.xlabel(\"Latitude\")\n",
    "plt.ylabel(\"Cloudiness (%)\")\n",
    "plt.title(\"City Latitude (Southern Hemisphere) vs. Cloudiness (4/16/21)\")\n",
    "plt.savefig(\"../Images/SHLat_vs_Cloudiness_LR.png\")"
   ]
  },
  {
   "cell_type": "markdown",
   "metadata": {},
   "source": [
    "There is not a strong correlation between cloudiness and latitude."
   ]
  },
  {
   "cell_type": "markdown",
   "metadata": {},
   "source": [
    "####  Northern Hemisphere - Wind Speed (mph) vs. Latitude Linear Regression"
   ]
  },
  {
   "cell_type": "code",
   "execution_count": 23,
   "metadata": {},
   "outputs": [
    {
     "name": "stdout",
     "output_type": "stream",
     "text": [
      "The r-value is: 0.21573938502512952\n"
     ]
    },
    {
     "data": {
      "image/png": "[encoded data removed]",
      "text/plain": [
       "<Figure size 432x288 with 1 Axes>"
      ]
     },
     "metadata": {
      "needs_background": "light"
     },
     "output_type": "display_data"
    }
   ],
   "source": [
    "regression(northern_hemi[\"Latitude\"], northern_hemi[\"Wind Speed\"])\n",
    "plt.xlabel(\"Latitude\")\n",
    "plt.ylabel(\"Wind Speed (mph)\")\n",
    "plt.title(\"City Latitude (Northern Hemisphere) vs. Wind Speed (4/16/21)\")\n",
    "plt.savefig(\"../Images/NHLat_vs_Windspeed_LR.png\")"
   ]
  },
  {
   "cell_type": "markdown",
   "metadata": {},
   "source": [
    "####  Southern Hemisphere - Wind Speed (mph) vs. Latitude Linear Regression"
   ]
  },
  {
   "cell_type": "code",
   "execution_count": 24,
   "metadata": {},
   "outputs": [
    {
     "name": "stdout",
     "output_type": "stream",
     "text": [
      "The r-value is: -0.16381476896208805\n"
     ]
    },
    {
     "data": {
      "image/png": "[encoded data removed]",
      "text/plain": [
       "<Figure size 432x288 with 1 Axes>"
      ]
     },
     "metadata": {
      "needs_background": "light"
     },
     "output_type": "display_data"
    }
   ],
   "source": [
    "regression(southern_hemi[\"Latitude\"], southern_hemi[\"Wind Speed\"])\n",
    "plt.xlabel(\"Latitude\")\n",
    "plt.ylabel(\"Wind Speed (mph)\")\n",
    "plt.title(\"City Latitude (Northern Hemisphere) vs. Wind Speed (4/16/21)\")\n",
    "plt.savefig(\"../Images/SHLat_vs_Windspeed_LR.png\")"
   ]
  },
  {
   "cell_type": "markdown",
   "metadata": {},
   "source": [
    "It does appear that as the distance increases from the equator the wind blows harder.  However, this is a pretty weak correlation. "
   ]
  }
 ],
 "metadata": {
  "anaconda-cloud": {},
  "kernel_info": {
   "name": "python3"
  },
  "kernelspec": {
   "display_name": "Python [conda env:PythonData]",
   "language": "python",
   "name": "conda-env-PythonData-py"
  },
  "language_info": {
   "codemirror_mode": {
    "name": "ipython",
    "version": 3
   },
   "file_extension": ".py",
   "mimetype": "text/x-python",
   "name": "python",
   "nbconvert_exporter": "python",
   "pygments_lexer": "ipython3",
   "version": "3.6.10"
  },
  "latex_envs": {
   "LaTeX_envs_menu_present": true,
   "autoclose": false,
   "autocomplete": true,
   "bibliofile": "biblio.bib",
   "cite_by": "apalike",
   "current_citInitial": 1,
   "eqLabelWithNumbers": true,
   "eqNumInitial": 1,
   "hotkeys": {
    "equation": "Ctrl-E",
    "itemize": "Ctrl-I"
   },
   "labels_anchors": false,
   "latex_user_defs": false,
   "report_style_numbering": false,
   "user_envs_cfg": false
  },
  "nteract": {
   "version": "0.12.3"
  }
 },
 "nbformat": 4,
 "nbformat_minor": 2
}
